{
 "metadata": {
  "kernelspec": {
   "display_name": "Python 3",
   "language": "python",
   "name": "python3"
  },
  "language_info": {
   "name": "python",
   "version": "3.10.12",
   "mimetype": "text/x-python",
   "codemirror_mode": {
    "name": "ipython",
    "version": 3
   },
   "pygments_lexer": "ipython3",
   "nbconvert_exporter": "python",
   "file_extension": ".py"
  },
  "kaggle": {
   "accelerator": "gpu",
   "dataSources": [
    {
     "sourceId": 31779,
     "databundleVersionId": 2970755,
     "sourceType": "competition"
    }
   ],
   "dockerImageVersionId": 30919,
   "isInternetEnabled": true,
   "language": "python",
   "sourceType": "notebook",
   "isGpuEnabled": true
  }
 },
 "nbformat_minor": 5,
 "nbformat": 4,
 "cells": [
  {
   "id": "80c35e96-7a40-485a-bd53-f1eb495f34da",
   "cell_type": "code",
   "source": "!curl -LsSf https://astral.sh/uv/install.sh | sh",
   "metadata": {
    "trusted": true,
    "execution": {
     "iopub.status.busy": "2025-03-20T19:48:02.026520Z",
     "iopub.execute_input": "2025-03-20T19:48:02.026851Z",
     "iopub.status.idle": "2025-03-20T19:48:04.122972Z",
     "shell.execute_reply.started": "2025-03-20T19:48:02.026816Z",
     "shell.execute_reply": "2025-03-20T19:48:04.122187Z"
    }
   },
   "outputs": [
    {
     "name": "stdout",
     "text": "downloading uv 0.6.8 x86_64-unknown-linux-gnu\nno checksums to verify\ninstalling to /root/.local/bin\n  uv\n  uvx\neverything's installed!\nWARNING: The following commands are shadowed by other commands in your PATH: uv uvx\n",
     "output_type": "stream"
    }
   ],
   "execution_count": 4
  },
  {
   "id": "28eee788-a8bc-4fe7-847b-83d604f88fc8",
   "cell_type": "code",
   "source": "!uv pip install --system transformers==4.49.0\n!uv pip install --system datasets==3.3.2\n!uv pip install --system accelerate==0.26.0\n!uv pip install --system evaluate==0.4.3",
   "metadata": {
    "trusted": true
   },
   "outputs": [],
   "execution_count": null
  },
  {
   "id": "bac5cdd287b0931f",
   "cell_type": "code",
   "source": [
    "import os\n",
    "import glob\n",
    "import pandas as pd\n",
    "import torch\n",
    "import matplotlib.pyplot as plt\n",
    "\n",
    "from datasets import Dataset\n",
    "from transformers import AutoTokenizer, AutoModelForSequenceClassification, TrainingArguments, Trainer\n",
    "from sklearn.model_selection import train_test_split\n",
    "from sklearn.metrics import roc_auc_score, roc_curve"
   ],
   "metadata": {
    "trusted": true,
    "execution": {
     "iopub.status.busy": "2025-03-20T20:35:50.845007Z",
     "iopub.execute_input": "2025-03-20T20:35:50.845286Z",
     "iopub.status.idle": "2025-03-20T20:35:50.849712Z",
     "shell.execute_reply.started": "2025-03-20T20:35:50.845265Z",
     "shell.execute_reply": "2025-03-20T20:35:50.848865Z"
    }
   },
   "outputs": [],
   "execution_count": 37
  },
  {
   "id": "c0b77341-6730-4133-b489-21803a178d74",
   "cell_type": "code",
   "source": "class Config:\n    data_dir: str = \"/kaggle/input/feedback-prize-2021/train\"\n    model_name: str = \"BAAI/bge-small-en-v1.5\"",
   "metadata": {
    "trusted": true,
    "execution": {
     "iopub.status.busy": "2025-03-20T19:48:40.803183Z",
     "iopub.execute_input": "2025-03-20T19:48:40.803480Z",
     "iopub.status.idle": "2025-03-20T19:48:40.823343Z",
     "shell.execute_reply.started": "2025-03-20T19:48:40.803447Z",
     "shell.execute_reply": "2025-03-20T19:48:40.822488Z"
    }
   },
   "outputs": [],
   "execution_count": 8
  },
  {
   "id": "initial_id",
   "cell_type": "code",
   "source": "def load_texts_from_dir(dir: str):\n    files = glob.glob(os.path.join(dir, \"*.txt\"))\n    texts = []\n    \n    for file in files:\n        with open(file, \"r\", encoding=\"utf-8\") as f:\n            text = f.read().strip()\n            texts.append(text)\n    \n    return texts\n\ndef prepare_dataset(dir: str):\n    texts = load_texts_from_dir(dir)\n    lengths = [len(text) for text in texts]\n    \n    return pd.DataFrame({\"text\": texts, \"length\": lengths})\n\ndef stratified_split(df: pd.DataFrame, test_size: int = 0.2, random_state: int = 42):\n    df[\"length_bin\"] = pd.qcut(df[\"length\"], q=5, labels=False)  \n    train_df, valid_df = train_test_split(df, test_size=0.2, stratify=df[\"length_bin\"], random_state=42)\n    \n    train_df.drop(columns=[\"length_bin\"], inplace=True)\n    valid_df.drop(columns=[\"length_bin\"], inplace=True)\n\n    train_df[\"label\"] = 0  \n    valid_df[\"label\"] = 1  \n\n    return train_df, valid_df",
   "metadata": {
    "trusted": true,
    "execution": {
     "iopub.status.busy": "2025-03-20T19:55:42.975650Z",
     "iopub.execute_input": "2025-03-20T19:55:42.976008Z",
     "iopub.status.idle": "2025-03-20T19:55:42.982494Z",
     "shell.execute_reply.started": "2025-03-20T19:55:42.975973Z",
     "shell.execute_reply": "2025-03-20T19:55:42.981569Z"
    }
   },
   "outputs": [],
   "execution_count": 15
  },
  {
   "id": "de542f96a28f4c96",
   "cell_type": "code",
   "source": "df = prepare_dataset(Config.data_dir)\ntrain_df, valid_df = stratified_split(df)\n\ntrain_df.to_csv(\"train.csv\", index=False)\nvalid_df.to_csv(\"valid.csv\", index=False)\n\nprint(f\"Train size: {len(train_df)}, Validation size: {len(valid_df)}\")",
   "metadata": {
    "trusted": true,
    "execution": {
     "iopub.status.busy": "2025-03-20T19:55:45.158127Z",
     "iopub.execute_input": "2025-03-20T19:55:45.158414Z",
     "iopub.status.idle": "2025-03-20T19:56:00.982075Z",
     "shell.execute_reply.started": "2025-03-20T19:55:45.158390Z",
     "shell.execute_reply": "2025-03-20T19:56:00.981100Z"
    }
   },
   "outputs": [
    {
     "name": "stdout",
     "text": "Train size: 12475, Validation size: 3119\n",
     "output_type": "stream"
    }
   ],
   "execution_count": 16
  },
  {
   "id": "58cd805c-7601-4625-86d3-99813115cb61",
   "cell_type": "code",
   "source": "adv_df = pd.concat([train_df, valid_df]).reset_index(drop=True)",
   "metadata": {
    "trusted": true,
    "execution": {
     "iopub.status.busy": "2025-03-20T20:18:41.139159Z",
     "iopub.execute_input": "2025-03-20T20:18:41.139483Z",
     "iopub.status.idle": "2025-03-20T20:18:41.146709Z",
     "shell.execute_reply.started": "2025-03-20T20:18:41.139459Z",
     "shell.execute_reply": "2025-03-20T20:18:41.146057Z"
    }
   },
   "outputs": [],
   "execution_count": 28
  },
  {
   "id": "8ce47649-17f4-4b10-9e56-5c9b1270f54f",
   "cell_type": "code",
   "source": "train_data, val_data = train_test_split( adv_df,\n    test_size=0.2,\n    stratify=adv_df['label'],  \n    random_state=42\n)",
   "metadata": {
    "trusted": true,
    "execution": {
     "iopub.status.busy": "2025-03-20T20:18:43.066485Z",
     "iopub.execute_input": "2025-03-20T20:18:43.066794Z",
     "iopub.status.idle": "2025-03-20T20:18:43.079017Z",
     "shell.execute_reply.started": "2025-03-20T20:18:43.066765Z",
     "shell.execute_reply": "2025-03-20T20:18:43.078082Z"
    }
   },
   "outputs": [],
   "execution_count": 29
  },
  {
   "id": "c4f44d97-b20f-4881-9893-080635421e55",
   "cell_type": "code",
   "source": "def tokenize_function(examples):\n    return tokenizer(examples[\"text\"], truncation=True, padding=\"max_length\")",
   "metadata": {
    "trusted": true,
    "execution": {
     "iopub.status.busy": "2025-03-20T20:18:45.720752Z",
     "iopub.execute_input": "2025-03-20T20:18:45.721058Z",
     "iopub.status.idle": "2025-03-20T20:18:45.724885Z",
     "shell.execute_reply.started": "2025-03-20T20:18:45.721032Z",
     "shell.execute_reply": "2025-03-20T20:18:45.724030Z"
    }
   },
   "outputs": [],
   "execution_count": 30
  },
  {
   "id": "3c5ea8b0-9afa-4836-b736-a06b09e8dc3d",
   "cell_type": "code",
   "source": "tokenizer = AutoTokenizer.from_pretrained(Config.model_name)",
   "metadata": {
    "trusted": true,
    "execution": {
     "iopub.status.busy": "2025-03-20T19:50:57.239319Z",
     "iopub.execute_input": "2025-03-20T19:50:57.239620Z",
     "iopub.status.idle": "2025-03-20T19:51:02.251120Z",
     "shell.execute_reply.started": "2025-03-20T19:50:57.239595Z",
     "shell.execute_reply": "2025-03-20T19:51:02.250455Z"
    }
   },
   "outputs": [
    {
     "output_type": "display_data",
     "data": {
      "text/plain": "tokenizer_config.json:   0%|          | 0.00/366 [00:00<?, ?B/s]",
      "application/vnd.jupyter.widget-view+json": {
       "version_major": 2,
       "version_minor": 0,
       "model_id": "d2ee3948aabc40278cca5a2a3d90feb4"
      }
     },
     "metadata": {}
    },
    {
     "output_type": "display_data",
     "data": {
      "text/plain": "vocab.txt:   0%|          | 0.00/232k [00:00<?, ?B/s]",
      "application/vnd.jupyter.widget-view+json": {
       "version_major": 2,
       "version_minor": 0,
       "model_id": "db22bbe4537247d2a27faa95e28dcec1"
      }
     },
     "metadata": {}
    },
    {
     "output_type": "display_data",
     "data": {
      "text/plain": "tokenizer.json:   0%|          | 0.00/711k [00:00<?, ?B/s]",
      "application/vnd.jupyter.widget-view+json": {
       "version_major": 2,
       "version_minor": 0,
       "model_id": "5b24e229a4af48af94c8f0a8b4ee7b19"
      }
     },
     "metadata": {}
    },
    {
     "output_type": "display_data",
     "data": {
      "text/plain": "special_tokens_map.json:   0%|          | 0.00/125 [00:00<?, ?B/s]",
      "application/vnd.jupyter.widget-view+json": {
       "version_major": 2,
       "version_minor": 0,
       "model_id": "9a95638e392b4dfd8463329871007a6a"
      }
     },
     "metadata": {}
    }
   ],
   "execution_count": 13
  },
  {
   "id": "2cf44db8-252b-451a-9252-6abf8f7f3fad",
   "cell_type": "code",
   "source": "train_dataset = Dataset.from_pandas(train_data)\nval_dataset = Dataset.from_pandas(val_data)\n\ntrain_dataset = train_dataset.map(tokenize_function, batched=True)\nval_dataset = val_dataset.map(tokenize_function, batched=True)\n\ntrain_dataset = train_dataset.rename_column(\"label\", \"labels\")\nval_dataset = val_dataset.rename_column(\"label\", \"labels\")\ntrain_dataset.set_format(\"torch\", columns=[\"input_ids\", \"attention_mask\", \"labels\"])\nval_dataset.set_format(\"torch\", columns=[\"input_ids\", \"attention_mask\", \"labels\"])",
   "metadata": {
    "trusted": true,
    "execution": {
     "iopub.status.busy": "2025-03-20T20:19:06.850736Z",
     "iopub.execute_input": "2025-03-20T20:19:06.851065Z",
     "iopub.status.idle": "2025-03-20T20:19:20.156295Z",
     "shell.execute_reply.started": "2025-03-20T20:19:06.851036Z",
     "shell.execute_reply": "2025-03-20T20:19:20.155632Z"
    }
   },
   "outputs": [
    {
     "output_type": "display_data",
     "data": {
      "text/plain": "Map:   0%|          | 0/12475 [00:00<?, ? examples/s]",
      "application/vnd.jupyter.widget-view+json": {
       "version_major": 2,
       "version_minor": 0,
       "model_id": "add1f290fadf4b4a9ec30401551f09ea"
      }
     },
     "metadata": {}
    },
    {
     "output_type": "display_data",
     "data": {
      "text/plain": "Map:   0%|          | 0/3119 [00:00<?, ? examples/s]",
      "application/vnd.jupyter.widget-view+json": {
       "version_major": 2,
       "version_minor": 0,
       "model_id": "9af41e75e6eb4bd89ed62faec986acb3"
      }
     },
     "metadata": {}
    }
   ],
   "execution_count": 32
  },
  {
   "id": "5f6444b0-8363-462c-a5ae-7857c96d588c",
   "cell_type": "code",
   "source": "model = AutoModelForSequenceClassification.from_pretrained(Config.model_name, num_labels=2)",
   "metadata": {
    "trusted": true,
    "execution": {
     "iopub.status.busy": "2025-03-20T19:56:21.253617Z",
     "iopub.execute_input": "2025-03-20T19:56:21.253933Z",
     "iopub.status.idle": "2025-03-20T19:56:22.824474Z",
     "shell.execute_reply.started": "2025-03-20T19:56:21.253907Z",
     "shell.execute_reply": "2025-03-20T19:56:22.823492Z"
    }
   },
   "outputs": [
    {
     "output_type": "display_data",
     "data": {
      "text/plain": "config.json:   0%|          | 0.00/743 [00:00<?, ?B/s]",
      "application/vnd.jupyter.widget-view+json": {
       "version_major": 2,
       "version_minor": 0,
       "model_id": "d2ce4d4e84bc454398756789d580fcd8"
      }
     },
     "metadata": {}
    },
    {
     "output_type": "display_data",
     "data": {
      "text/plain": "model.safetensors:   0%|          | 0.00/133M [00:00<?, ?B/s]",
      "application/vnd.jupyter.widget-view+json": {
       "version_major": 2,
       "version_minor": 0,
       "model_id": "2e92a2e25b0b433d9346181c457d6d98"
      }
     },
     "metadata": {}
    },
    {
     "name": "stderr",
     "text": "Some weights of BertForSequenceClassification were not initialized from the model checkpoint at BAAI/bge-small-en-v1.5 and are newly initialized: ['classifier.bias', 'classifier.weight']\nYou should probably TRAIN this model on a down-stream task to be able to use it for predictions and inference.\n",
     "output_type": "stream"
    }
   ],
   "execution_count": 20
  },
  {
   "id": "bb0e7d5c-4f2c-49ea-8381-307dbf65308b",
   "cell_type": "code",
   "source": "training_args = TrainingArguments(\n    output_dir=\"./results\",\n    evaluation_strategy=\"epoch\",\n    save_strategy=\"epoch\",\n    per_device_train_batch_size=8,\n    per_device_eval_batch_size=8,\n    num_train_epochs=3,\n    weight_decay=0.01,\n    logging_dir=\"./logs\",\n    logging_steps=10,\n    report_to=[]\n)\n\ntrainer = Trainer(\n    model=model,\n    args=training_args,\n    train_dataset=train_dataset,\n    eval_dataset=val_dataset,\n)",
   "metadata": {
    "trusted": true,
    "execution": {
     "iopub.status.busy": "2025-03-20T20:19:27.685153Z",
     "iopub.execute_input": "2025-03-20T20:19:27.685446Z",
     "iopub.status.idle": "2025-03-20T20:19:27.701302Z",
     "shell.execute_reply.started": "2025-03-20T20:19:27.685422Z",
     "shell.execute_reply": "2025-03-20T20:19:27.700489Z"
    }
   },
   "outputs": [
    {
     "name": "stderr",
     "text": "/usr/local/lib/python3.10/dist-packages/transformers/training_args.py:1594: FutureWarning: `evaluation_strategy` is deprecated and will be removed in version 4.46 of 🤗 Transformers. Use `eval_strategy` instead\n  warnings.warn(\n",
     "output_type": "stream"
    }
   ],
   "execution_count": 33
  },
  {
   "id": "9dbd9b81-3f2b-4d99-a2dd-fdebf930ad3f",
   "cell_type": "code",
   "source": "trainer.train()",
   "metadata": {
    "trusted": true,
    "execution": {
     "iopub.status.busy": "2025-03-20T20:19:30.823824Z",
     "iopub.execute_input": "2025-03-20T20:19:30.824167Z",
     "iopub.status.idle": "2025-03-20T20:35:20.896813Z",
     "shell.execute_reply.started": "2025-03-20T20:19:30.824140Z",
     "shell.execute_reply": "2025-03-20T20:35:20.895894Z"
    }
   },
   "outputs": [
    {
     "output_type": "display_data",
     "data": {
      "text/plain": "<IPython.core.display.HTML object>",
      "text/html": "\n    <div>\n      \n      <progress value='4680' max='4680' style='width:300px; height:20px; vertical-align: middle;'></progress>\n      [4680/4680 15:49, Epoch 3/3]\n    </div>\n    <table border=\"1\" class=\"dataframe\">\n  <thead>\n <tr style=\"text-align: left;\">\n      <th>Epoch</th>\n      <th>Training Loss</th>\n      <th>Validation Loss</th>\n    </tr>\n  </thead>\n  <tbody>\n    <tr>\n      <td>1</td>\n      <td>0.405100</td>\n      <td>0.506248</td>\n    </tr>\n    <tr>\n      <td>2</td>\n      <td>0.483500</td>\n      <td>0.500625</td>\n    </tr>\n    <tr>\n      <td>3</td>\n      <td>0.350900</td>\n      <td>0.501282</td>\n    </tr>\n  </tbody>\n</table><p>"
     },
     "metadata": {}
    },
    {
     "execution_count": 34,
     "output_type": "execute_result",
     "data": {
      "text/plain": "TrainOutput(global_step=4680, training_loss=0.5086813244045291, metrics={'train_runtime': 949.6251, 'train_samples_per_second': 39.41, 'train_steps_per_second': 4.928, 'total_flos': 2465286924441600.0, 'train_loss': 0.5086813244045291, 'epoch': 3.0})"
     },
     "metadata": {}
    }
   ],
   "execution_count": 34
  },
  {
   "id": "ee331db7-9697-41a3-a463-c415f3906ce1",
   "cell_type": "code",
   "source": [
    "predictions = trainer.predict(val_dataset).predictions\n",
    "probs = torch.nn.functional.softmax(torch.tensor(predictions), dim=-1)[:, 1].numpy()\n",
    "\n",
    "y_true = val_dataset[\"labels\"]\n",
    "auc_score = roc_auc_score(y_true, probs)\n",
    "\n",
    "print(f\"Adversarial Validation AUC: {auc_score:.4f}\")"
   ],
   "metadata": {
    "trusted": true,
    "execution": {
     "iopub.status.busy": "2025-03-20T20:37:03.115320Z",
     "iopub.execute_input": "2025-03-20T20:37:03.115634Z",
     "iopub.status.idle": "2025-03-20T20:37:20.520898Z",
     "shell.execute_reply.started": "2025-03-20T20:37:03.115610Z",
     "shell.execute_reply": "2025-03-20T20:37:20.520108Z"
    }
   },
   "outputs": [
    {
     "output_type": "display_data",
     "data": {
      "text/plain": "<IPython.core.display.HTML object>",
      "text/html": ""
     },
     "metadata": {}
    },
    {
     "name": "stdout",
     "text": "Adversarial Validation AUC: 0.5101\n",
     "output_type": "stream"
    }
   ],
   "execution_count": 41
  },
  {
   "id": "f205f725-120e-4de4-ba9b-3aa45c4f97fc",
   "cell_type": "code",
   "source": "fpr, tpr, _ = roc_curve(y_true, probs)",
   "metadata": {
    "trusted": true,
    "execution": {
     "iopub.status.busy": "2025-03-20T20:37:24.146505Z",
     "iopub.execute_input": "2025-03-20T20:37:24.146853Z",
     "iopub.status.idle": "2025-03-20T20:37:24.152303Z",
     "shell.execute_reply.started": "2025-03-20T20:37:24.146826Z",
     "shell.execute_reply": "2025-03-20T20:37:24.151627Z"
    }
   },
   "outputs": [],
   "execution_count": 42
  },
  {
   "id": "71162082-e5c6-4622-8a64-a7a7cb9b3562",
   "cell_type": "code",
   "source": "plt.figure(figsize=(8, 6))\nplt.plot(fpr, tpr, label=f\"ROC curve (AUC = {auc_score:.4f})\", color=\"blue\")\nplt.plot([0, 1], [0, 1], \"r--\")  \nplt.xlabel(\"False Positive Rate\")\nplt.ylabel(\"True Positive Rate\")\nplt.title(\"ROC-AUC Curve: Adversarial Validation\")\nplt.legend(loc=\"lower right\")\nplt.grid()\nplt.show()",
   "metadata": {
    "trusted": true,
    "execution": {
     "iopub.status.busy": "2025-03-20T20:37:25.986808Z",
     "iopub.execute_input": "2025-03-20T20:37:25.987111Z",
     "iopub.status.idle": "2025-03-20T20:37:26.230244Z",
     "shell.execute_reply.started": "2025-03-20T20:37:25.987085Z",
     "shell.execute_reply": "2025-03-20T20:37:26.229346Z"
    }
   },
   "outputs": [
    {
     "output_type": "display_data",
     "data": {
      "text/plain": "<Figure size 800x600 with 1 Axes>",
      "image/png": "[encoded data removed]"
     },
     "metadata": {}
    }
   ],
   "execution_count": 43
  }
 ]
}
