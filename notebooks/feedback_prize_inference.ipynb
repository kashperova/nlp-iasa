{
 "cells": [
  {
   "metadata": {},
   "cell_type": "code",
   "outputs": [],
   "execution_count": null,
   "source": "!git clone https://@github.com/kashperova/nlp-iasa.git",
   "id": "64fa48e87db3aab1"
  },
  {
   "metadata": {},
   "cell_type": "code",
   "outputs": [],
   "execution_count": null,
   "source": "%cd nlp-iasa/src",
   "id": "a2b506d024fc307a"
  },
  {
   "metadata": {
    "collapsed": true
   },
   "cell_type": "code",
   "outputs": [],
   "execution_count": null,
   "source": "from trainings.feedback_prize import run_inference",
   "id": "initial_id"
  },
  {
   "metadata": {},
   "cell_type": "code",
   "outputs": [],
   "execution_count": null,
   "source": [
    "class Config:\n",
    "    test_txt_path: str = \"/kaggle/input/feedback-prize-2021/test\"\n",
    "    train_csv_path: str = \"/kaggle/input/feedback-prize-2021/train.csv\"\n",
    "    checkpoint_path: str = \"/kaggle/input/modern-bert/\"\n",
    "    max_length: int = 2048\n",
    "    min_tokens: int = 4\n",
    "    beam_size: int = 4"
   ],
   "id": "a9290ab7f0b329de"
  },
  {
   "metadata": {},
   "cell_type": "code",
   "outputs": [],
   "execution_count": null,
   "source": [
    "run_inference(\n",
    "    test_txt_path=Config.test_txt_path,\n",
    "    train_csv_path=Config.train_csv_path,\n",
    "    checkpoint_path=Config.checkpoint_path,\n",
    "    max_length=Config.max_length,\n",
    "    min_tokens=Config.min_tokens,\n",
    "    beam_size=Config.beam_size,\n",
    ")"
   ],
   "id": "18fd47db44cd7082"
  }
 ],
 "metadata": {
  "kernelspec": {
   "display_name": "Python 3",
   "language": "python",
   "name": "python3"
  },
  "language_info": {
   "codemirror_mode": {
    "name": "ipython",
    "version": 2
   },
   "file_extension": ".py",
   "mimetype": "text/x-python",
   "name": "python",
   "nbconvert_exporter": "python",
   "pygments_lexer": "ipython2",
   "version": "2.7.6"
  }
 },
 "nbformat": 4,
 "nbformat_minor": 5
}
