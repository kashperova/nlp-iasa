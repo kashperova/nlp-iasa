{
 "cells": [
  {
   "metadata": {},
   "cell_type": "code",
   "outputs": [],
   "execution_count": null,
   "source": "!git clone https://@github.com/kashperova/nlp-iasa.git",
   "id": "64fa48e87db3aab1"
  },
  {
   "metadata": {},
   "cell_type": "code",
   "outputs": [],
   "execution_count": null,
   "source": "%cd nlp-iasa/src",
   "id": "a2b506d024fc307a"
  },
  {
   "metadata": {
    "collapsed": true
   },
   "cell_type": "code",
   "outputs": [],
   "execution_count": null,
   "source": [
    "import os\n",
    "import wandb\n",
    "from omegaconf import OmegaConf\n",
    "\n",
    "from trainings.feedback_prize import train\n",
    "\n",
    "os.environ[\"WANDB_API_KEY\"] = \"\""
   ],
   "id": "initial_id"
  },
  {
   "metadata": {},
   "cell_type": "code",
   "outputs": [],
   "execution_count": null,
   "source": "wandb.init(project=\"feedback_prize\")",
   "id": "aa1f82571a3cbe3e"
  },
  {
   "metadata": {},
   "cell_type": "code",
   "outputs": [],
   "execution_count": null,
   "source": "cfg = OmegaConf.load(\"./cfg/modern_bert.yaml\")",
   "id": "a9290ab7f0b329de"
  },
  {
   "metadata": {},
   "cell_type": "code",
   "outputs": [],
   "execution_count": null,
   "source": "train(cfg)",
   "id": "18fd47db44cd7082"
  }
 ],
 "metadata": {
  "kernelspec": {
   "display_name": "Python 3",
   "language": "python",
   "name": "python3"
  },
  "language_info": {
   "codemirror_mode": {
    "name": "ipython",
    "version": 2
   },
   "file_extension": ".py",
   "mimetype": "text/x-python",
   "name": "python",
   "nbconvert_exporter": "python",
   "pygments_lexer": "ipython2",
   "version": "2.7.6"
  }
 },
 "nbformat": 4,
 "nbformat_minor": 5
}
